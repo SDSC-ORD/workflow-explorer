{
 "cells": [
  {
   "cell_type": "markdown",
   "metadata": {},
   "source": [
    "# Exploring metadata of workflow repositories\n",
    "\n",
    "The general goal of this quick document is to use `gimie` to extract metadata from all the workflow managers and try to use the metadata information to guide data engineers in selecting their framework."
   ]
  },
  {
   "cell_type": "markdown",
   "metadata": {},
   "source": [
    "We test `gimie` with Nextflow to obtain metadata and look into it:"
   ]
  },
  {
   "cell_type": "code",
   "execution_count": null,
   "metadata": {},
   "outputs": [],
   "source": [
    "from gimie.project import Project\n",
    "url = 'https://github.com/foo/bar'\n",
    "proj = Project(url)\n"
   ]
  }
 ],
 "metadata": {
  "language_info": {
   "name": "python"
  },
  "orig_nbformat": 4
 },
 "nbformat": 4,
 "nbformat_minor": 2
}
